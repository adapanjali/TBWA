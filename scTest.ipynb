{
 "cells": [
  {
   "cell_type": "markdown",
   "metadata": {},
   "source": [
    "# SC Automation - ONE RUN\n",
    "\n",
    "#### Notes:\n",
    "###### 1. Merging is case-sensitive\n",
    "###### 2. Find a way to merge df_Updates with keywords extracted for HSBC from Semrush\n",
    "###### 3. There is a one time setting of the following things:\n",
    "            - Changing the name of the search volume columns as - \"Search Volume (MMM YYYY)\"\n",
    "            - Arranging the dataframes in a specific order of country-language permanently"
   ]
  },
  {
   "cell_type": "code",
   "execution_count": 1,
   "metadata": {},
   "outputs": [],
   "source": [
    "# Import libraries \n",
    "import pandas as pd"
   ]
  },
  {
   "cell_type": "code",
   "execution_count": 2,
   "metadata": {},
   "outputs": [],
   "source": [
    "# Excel File Paths\n",
    "path_Main = \"/Users/adap.anjali/Desktop/SC Affluent/Test Folder/Main v1.xlsx\"\n",
    "path_Updates = \"/Users/adap.anjali/REFINED/all_worksheets_2022-03-25_1523.xlsx\" # Combined new keyword sheets "
   ]
  },
  {
   "cell_type": "markdown",
   "metadata": {},
   "source": [
    "## Importing dataframes\n",
    "\n",
    "#### df_Main - Main document with all keywords (14 sheets)\n",
    "Assume that the keywords for HSBC have already been the above dataframe \n",
    "#### df_Updates - Document with all the updates for search volume data \n"
   ]
  },
  {
   "cell_type": "code",
   "execution_count": 3,
   "metadata": {},
   "outputs": [],
   "source": [
    "# Contains dictionary of dataframes\n",
    "df_Main = pd.read_excel(path_Main, sheet_name= None) # None imports all of the sheets in an excel workbook\n",
    "df_Updates = pd.read_excel(path_Updates, sheet_name= None) "
   ]
  },
  {
   "cell_type": "code",
   "execution_count": 4,
   "metadata": {},
   "outputs": [],
   "source": [
    "# Getting the names of the dataframes as list to extract country and language\n",
    "all = list(df_Main.keys())"
   ]
  },
  {
   "cell_type": "code",
   "execution_count": 5,
   "metadata": {},
   "outputs": [],
   "source": [
    "country = []\n",
    "lang = []\n",
    "\n",
    "for i in range(len(all)):\n",
    "    lang.append(all[i][-2:])\n",
    "\n",
    "    if len(all[i]) == 7:\n",
    "        country.append(all[i][:2])\n",
    "    elif len(all[i]) == 8:\n",
    "        country.append(all[i][:3])"
   ]
  },
  {
   "cell_type": "markdown",
   "metadata": {},
   "source": [
    "## Formatting each sheet in the Main Document"
   ]
  },
  {
   "cell_type": "code",
   "execution_count": 7,
   "metadata": {},
   "outputs": [],
   "source": [
    "# Putting all the sheets from the Main document into a list \n",
    "\n",
    "all_sheets = []\n",
    "for name, sheet in df_Main.items(): # key, value in dictionary.items()\n",
    "    all_sheets.append(sheet)"
   ]
  },
  {
   "cell_type": "code",
   "execution_count": 8,
   "metadata": {},
   "outputs": [],
   "source": [
    "# 1. Renaming the keywords column\n",
    "# 2. Changing all keywords to lower case \n",
    "# 3. Drop averages column (to be recalculated after appending latest column)\n",
    "# 4. Setting the keywords column as index for merging\n",
    "\n",
    "for i in range(len(all_sheets)):\n",
    "    all_sheets[i].rename(columns= {'Actual Search Keywords':'Keywords'}, inplace= True)\n",
    "    all_sheets[i]['Keywords'] = all_sheets[i]['Keywords'].str.lower()\n",
    "    all_sheets[i] = all_sheets[i].drop(['Search Volume (Average)'], axis= 1) \n",
    "    all_sheets[i].set_index(\"Keywords\", inplace= True)"
   ]
  },
  {
   "cell_type": "markdown",
   "metadata": {},
   "source": [
    "## Formatting df_Updates"
   ]
  },
  {
   "cell_type": "markdown",
   "metadata": {},
   "source": [
    "### Arrange all the sheets in same order for both new search volumes and main document "
   ]
  },
  {
   "cell_type": "code",
   "execution_count": 9,
   "metadata": {},
   "outputs": [],
   "source": [
    "# Put new search volumes into a list \n",
    "all_Updates = []\n",
    "for name, sheet in df_Updates.items():\n",
    "    all_Updates.append(sheet)"
   ]
  },
  {
   "cell_type": "code",
   "execution_count": 10,
   "metadata": {},
   "outputs": [],
   "source": [
    "# 1. Changing all the keywords to lower case \n",
    "# 2. Selecting only the keywords and the new search volumes \n",
    "# 3. Setting keywords as index \n",
    "\n",
    "for j in range(len(all_Updates)):\n",
    "    all_Updates[j]['Keywords'] = all_Updates[j]['Keywords'].str.lower() # doesn't matter anyway because already lower case but still better for safety - NOT EXECUTING \n",
    "    all_Updates[j] = all_Updates[j].iloc[:, [0, 13]]\n",
    "    all_Updates[j].set_index(\"Keywords\", inplace= True)"
   ]
  },
  {
   "cell_type": "code",
   "execution_count": 11,
   "metadata": {},
   "outputs": [],
   "source": [
    "# Insert country and language columns \n",
    "\n",
    "for i in range(len(all_sheets)):\n",
    "    all_sheets[i][\"Country\"] = country[i]\n",
    "    all_sheets[i][\"Language\"] = lang[i]"
   ]
  },
  {
   "cell_type": "code",
   "execution_count": 12,
   "metadata": {},
   "outputs": [
    {
     "data": {
      "text/html": [
       "<div>\n",
       "<style scoped>\n",
       "    .dataframe tbody tr th:only-of-type {\n",
       "        vertical-align: middle;\n",
       "    }\n",
       "\n",
       "    .dataframe tbody tr th {\n",
       "        vertical-align: top;\n",
       "    }\n",
       "\n",
       "    .dataframe thead th {\n",
       "        text-align: right;\n",
       "    }\n",
       "</style>\n",
       "<table border=\"1\" class=\"dataframe\">\n",
       "  <thead>\n",
       "    <tr style=\"text-align: right;\">\n",
       "      <th></th>\n",
       "      <th>Bank</th>\n",
       "      <th>Segment</th>\n",
       "      <th>Bank Specific Name</th>\n",
       "      <th>Keywords Grouping</th>\n",
       "      <th>EN Translations</th>\n",
       "      <th>Search Volume (Jan 2019)</th>\n",
       "      <th>Search Volume (Feb 2019)</th>\n",
       "      <th>Search Volume (Mar 2019)</th>\n",
       "      <th>Search Volume (Apr 2019)</th>\n",
       "      <th>Search Volume (May 2019)</th>\n",
       "      <th>...</th>\n",
       "      <th>Search Volume (Mar 2021)</th>\n",
       "      <th>Search Volume (Apr 2021)</th>\n",
       "      <th>Search Volume (May 2021)</th>\n",
       "      <th>Search Volume (Jun 2021)</th>\n",
       "      <th>Search Volume (Jul 2021)</th>\n",
       "      <th>Search Volume (Aug 2021)</th>\n",
       "      <th>Search Volume (Sep 2021)</th>\n",
       "      <th>Search Volume (Oct 2021)</th>\n",
       "      <th>Country</th>\n",
       "      <th>Language</th>\n",
       "    </tr>\n",
       "    <tr>\n",
       "      <th>Keywords</th>\n",
       "      <th></th>\n",
       "      <th></th>\n",
       "      <th></th>\n",
       "      <th></th>\n",
       "      <th></th>\n",
       "      <th></th>\n",
       "      <th></th>\n",
       "      <th></th>\n",
       "      <th></th>\n",
       "      <th></th>\n",
       "      <th></th>\n",
       "      <th></th>\n",
       "      <th></th>\n",
       "      <th></th>\n",
       "      <th></th>\n",
       "      <th></th>\n",
       "      <th></th>\n",
       "      <th></th>\n",
       "      <th></th>\n",
       "      <th></th>\n",
       "      <th></th>\n",
       "    </tr>\n",
       "  </thead>\n",
       "  <tbody>\n",
       "    <tr>\n",
       "      <th>中信銀行國際</th>\n",
       "      <td>CITIC</td>\n",
       "      <td>International Banking</td>\n",
       "      <td>International Banking</td>\n",
       "      <td>CITIC- International Banking</td>\n",
       "      <td>CITIC international</td>\n",
       "      <td>850</td>\n",
       "      <td>560</td>\n",
       "      <td>710</td>\n",
       "      <td>710</td>\n",
       "      <td>1230</td>\n",
       "      <td>...</td>\n",
       "      <td>2400</td>\n",
       "      <td>1900</td>\n",
       "      <td>4400</td>\n",
       "      <td>2900</td>\n",
       "      <td>3600</td>\n",
       "      <td>4400</td>\n",
       "      <td>4400</td>\n",
       "      <td>4140</td>\n",
       "      <td>HK</td>\n",
       "      <td>ZH</td>\n",
       "    </tr>\n",
       "    <tr>\n",
       "      <th>渣打優先理財</th>\n",
       "      <td>SC</td>\n",
       "      <td>Priority Banking</td>\n",
       "      <td>Priority</td>\n",
       "      <td>SC - Priority</td>\n",
       "      <td>standardchartered priority banking</td>\n",
       "      <td>0</td>\n",
       "      <td>810</td>\n",
       "      <td>360</td>\n",
       "      <td>360</td>\n",
       "      <td>340</td>\n",
       "      <td>...</td>\n",
       "      <td>590</td>\n",
       "      <td>590</td>\n",
       "      <td>480</td>\n",
       "      <td>590</td>\n",
       "      <td>1600</td>\n",
       "      <td>720</td>\n",
       "      <td>590</td>\n",
       "      <td>970</td>\n",
       "      <td>HK</td>\n",
       "      <td>ZH</td>\n",
       "    </tr>\n",
       "    <tr>\n",
       "      <th>中信國際</th>\n",
       "      <td>CITIC</td>\n",
       "      <td>International Banking</td>\n",
       "      <td>International Banking</td>\n",
       "      <td>CITIC- International Banking</td>\n",
       "      <td>CITIC international</td>\n",
       "      <td>2560</td>\n",
       "      <td>2080</td>\n",
       "      <td>2560</td>\n",
       "      <td>2400</td>\n",
       "      <td>2400</td>\n",
       "      <td>...</td>\n",
       "      <td>1600</td>\n",
       "      <td>1300</td>\n",
       "      <td>1600</td>\n",
       "      <td>1600</td>\n",
       "      <td>1000</td>\n",
       "      <td>1000</td>\n",
       "      <td>1000</td>\n",
       "      <td>1000</td>\n",
       "      <td>HK</td>\n",
       "      <td>ZH</td>\n",
       "    </tr>\n",
       "    <tr>\n",
       "      <th>中銀國際</th>\n",
       "      <td>BOC</td>\n",
       "      <td>International Banking</td>\n",
       "      <td>International Banking</td>\n",
       "      <td>BOC- International Banking</td>\n",
       "      <td>BOC international</td>\n",
       "      <td>750</td>\n",
       "      <td>230</td>\n",
       "      <td>1940</td>\n",
       "      <td>1220</td>\n",
       "      <td>710</td>\n",
       "      <td>...</td>\n",
       "      <td>880</td>\n",
       "      <td>590</td>\n",
       "      <td>590</td>\n",
       "      <td>720</td>\n",
       "      <td>720</td>\n",
       "      <td>880</td>\n",
       "      <td>1900</td>\n",
       "      <td>1170</td>\n",
       "      <td>HK</td>\n",
       "      <td>ZH</td>\n",
       "    </tr>\n",
       "    <tr>\n",
       "      <th>citigold要求</th>\n",
       "      <td>Citi</td>\n",
       "      <td>Priority Banking</td>\n",
       "      <td>Citigold</td>\n",
       "      <td>Citi - Citigold</td>\n",
       "      <td>citibank gold requirements</td>\n",
       "      <td>0</td>\n",
       "      <td>0</td>\n",
       "      <td>2290</td>\n",
       "      <td>0</td>\n",
       "      <td>0</td>\n",
       "      <td>...</td>\n",
       "      <td>880</td>\n",
       "      <td>720</td>\n",
       "      <td>880</td>\n",
       "      <td>1000</td>\n",
       "      <td>720</td>\n",
       "      <td>390</td>\n",
       "      <td>480</td>\n",
       "      <td>530</td>\n",
       "      <td>HK</td>\n",
       "      <td>ZH</td>\n",
       "    </tr>\n",
       "  </tbody>\n",
       "</table>\n",
       "<p>5 rows × 41 columns</p>\n",
       "</div>"
      ],
      "text/plain": [
       "             Bank                Segment     Bank Specific Name  \\\n",
       "Keywords                                                          \n",
       "中信銀行國際      CITIC  International Banking  International Banking   \n",
       "渣打優先理財         SC       Priority Banking               Priority   \n",
       "中信國際        CITIC  International Banking  International Banking   \n",
       "中銀國際          BOC  International Banking  International Banking   \n",
       "citigold要求   Citi       Priority Banking               Citigold   \n",
       "\n",
       "                       Keywords Grouping                     EN Translations  \\\n",
       "Keywords                                                                       \n",
       "中信銀行國際      CITIC- International Banking                 CITIC international   \n",
       "渣打優先理財                     SC - Priority  standardchartered priority banking   \n",
       "中信國際        CITIC- International Banking                 CITIC international   \n",
       "中銀國際          BOC- International Banking                   BOC international   \n",
       "citigold要求               Citi - Citigold          citibank gold requirements   \n",
       "\n",
       "            Search Volume (Jan 2019)  Search Volume (Feb 2019)  \\\n",
       "Keywords                                                         \n",
       "中信銀行國際                           850                       560   \n",
       "渣打優先理財                             0                       810   \n",
       "中信國際                            2560                      2080   \n",
       "中銀國際                             750                       230   \n",
       "citigold要求                         0                         0   \n",
       "\n",
       "            Search Volume (Mar 2019)  Search Volume (Apr 2019)  \\\n",
       "Keywords                                                         \n",
       "中信銀行國際                           710                       710   \n",
       "渣打優先理財                           360                       360   \n",
       "中信國際                            2560                      2400   \n",
       "中銀國際                            1940                      1220   \n",
       "citigold要求                      2290                         0   \n",
       "\n",
       "            Search Volume (May 2019)  ...  Search Volume (Mar 2021)  \\\n",
       "Keywords                              ...                             \n",
       "中信銀行國際                          1230  ...                      2400   \n",
       "渣打優先理財                           340  ...                       590   \n",
       "中信國際                            2400  ...                      1600   \n",
       "中銀國際                             710  ...                       880   \n",
       "citigold要求                         0  ...                       880   \n",
       "\n",
       "            Search Volume (Apr 2021)  Search Volume (May 2021)  \\\n",
       "Keywords                                                         \n",
       "中信銀行國際                          1900                      4400   \n",
       "渣打優先理財                           590                       480   \n",
       "中信國際                            1300                      1600   \n",
       "中銀國際                             590                       590   \n",
       "citigold要求                       720                       880   \n",
       "\n",
       "            Search Volume (Jun 2021)  Search Volume (Jul 2021)  \\\n",
       "Keywords                                                         \n",
       "中信銀行國際                          2900                      3600   \n",
       "渣打優先理財                           590                      1600   \n",
       "中信國際                            1600                      1000   \n",
       "中銀國際                             720                       720   \n",
       "citigold要求                      1000                       720   \n",
       "\n",
       "            Search Volume (Aug 2021)  Search Volume (Sep 2021)  \\\n",
       "Keywords                                                         \n",
       "中信銀行國際                          4400                      4400   \n",
       "渣打優先理財                           720                       590   \n",
       "中信國際                            1000                      1000   \n",
       "中銀國際                             880                      1900   \n",
       "citigold要求                       390                       480   \n",
       "\n",
       "            Search Volume (Oct 2021)  Country  Language  \n",
       "Keywords                                                 \n",
       "中信銀行國際                          4140       HK        ZH  \n",
       "渣打優先理財                           970       HK        ZH  \n",
       "中信國際                            1000       HK        ZH  \n",
       "中銀國際                            1170       HK        ZH  \n",
       "citigold要求                       530       HK        ZH  \n",
       "\n",
       "[5 rows x 41 columns]"
      ]
     },
     "execution_count": 12,
     "metadata": {},
     "output_type": "execute_result"
    }
   ],
   "source": [
    "all_sheets[1].head()"
   ]
  },
  {
   "cell_type": "markdown",
   "metadata": {},
   "source": [
    "## Merging df_Main and df_Updates"
   ]
  },
  {
   "cell_type": "code",
   "execution_count": 13,
   "metadata": {},
   "outputs": [],
   "source": [
    "for i in range(len(all_Updates)):\n",
    "    all_sheets[i] = all_sheets[i].join(all_Updates[i])"
   ]
  },
  {
   "cell_type": "code",
   "execution_count": 14,
   "metadata": {},
   "outputs": [
    {
     "name": "stdout",
     "output_type": "stream",
     "text": [
      "(307, 41)\n",
      "(307, 1)\n",
      "(308, 42)\n",
      "(308, 1)\n",
      "(501, 41)\n",
      "(501, 1)\n",
      "(277, 41)\n",
      "(277, 1)\n",
      "(281, 41)\n",
      "(281, 1)\n",
      "(230, 41)\n",
      "(230, 1)\n",
      "(295, 41)\n",
      "(295, 1)\n",
      "(405, 41)\n",
      "(405, 1)\n"
     ]
    }
   ],
   "source": [
    "# Check to see if the dataframes are in the right order\n",
    "for i in range(len(all_Updates)):\n",
    "    print(all_sheets[i].shape)\n",
    "    print(all_Updates[i].shape)"
   ]
  },
  {
   "cell_type": "code",
   "execution_count": 15,
   "metadata": {},
   "outputs": [
    {
     "data": {
      "text/plain": [
       "Index(['Bank', 'Segment', 'Bank Specific Name', 'Keywords Grouping',\n",
       "       'Search Volume (Jan 2019)', 'Search Volume (Feb 2019)',\n",
       "       'Search Volume (Mar 2019)', 'Search Volume (Apr 2019)',\n",
       "       'Search Volume (May 2019)', 'Search Volume (Jun 2019)',\n",
       "       'Search Volume (Jul 2019)', 'Search Volume (Aug 2019)',\n",
       "       'Search Volume (Sep 2019)', 'Search Volume (Oct 2019)',\n",
       "       'Search Volume (Nov 2019)', 'Search Volume (Dec 2019)',\n",
       "       'Search Volume (Jan 2020)', 'Search Volume (Feb 2020)',\n",
       "       'Search Volume (Mar 2020)', 'Search Volume (Apr 2020)',\n",
       "       'Search Volume (May 2020)', 'Search Volume (Jun 2020)',\n",
       "       'Search Volume (Jul 2020)', 'Search Volume (Aug 2020)',\n",
       "       'Search Volume (Sep 2020)', 'Search Volume (Oct 2020)',\n",
       "       'Search Volume (Nov 2020)', 'Search Volume (Dec 2020)',\n",
       "       'Search Volume (Jan 2021)', 'Search Volume (Feb 2021)',\n",
       "       'Search Volume (Mar 2021)', 'Search Volume (Apr 2021)',\n",
       "       'Search Volume (May 2021)', 'Search Volume (Jun 2021)',\n",
       "       'Search Volume (Jul 2021)', 'Search Volume (Aug 2021)',\n",
       "       'Search Volume (Sep 2021)', 'Search Volume (Oct 2021)', 'Country',\n",
       "       'Language', 'Search Volume (Feb 2022)'],\n",
       "      dtype='object')"
      ]
     },
     "execution_count": 15,
     "metadata": {},
     "output_type": "execute_result"
    }
   ],
   "source": [
    "all_sheets[2].columns"
   ]
  },
  {
   "cell_type": "code",
   "execution_count": 16,
   "metadata": {},
   "outputs": [
    {
     "data": {
      "text/plain": [
       "Index(['Bank', 'Segment', 'Bank Specific Name', 'Keywords Grouping',\n",
       "       'EN Translations', 'Search Volume (Jan 2019)',\n",
       "       'Search Volume (Feb 2019)', 'Search Volume (Mar 2019)',\n",
       "       'Search Volume (Apr 2019)', 'Search Volume (May 2019)',\n",
       "       'Search Volume (Jun 2019)', 'Search Volume (Jul 2019)',\n",
       "       'Search Volume (Aug 2019)', 'Search Volume (Sep 2019)',\n",
       "       'Search Volume (Oct 2019)', 'Search Volume (Nov 2019)',\n",
       "       'Search Volume (Dec 2019)', 'Search Volume (Jan 2020)',\n",
       "       'Search Volume (Feb 2020)', 'Search Volume (Mar 2020)',\n",
       "       'Search Volume (Apr 2020)', 'Search Volume (May 2020)',\n",
       "       'Search Volume (Jun 2020)', 'Search Volume (Jul 2020)',\n",
       "       'Search Volume (Aug 2020)', 'Search Volume (Sep 2020)',\n",
       "       'Search Volume (Oct 2020)', 'Search Volume (Nov 2020)',\n",
       "       'Search Volume (Dec 2020)', 'Search Volume (Jan 2021)',\n",
       "       'Search Volume (Feb 2021)', 'Search Volume (Mar 2021)',\n",
       "       'Search Volume (Apr 2021)', 'Search Volume (May 2021)',\n",
       "       'Search Volume (Jun 2021)', 'Search Volume (Jul 2021)',\n",
       "       'Search Volume (Aug 2021)', 'Search Volume (Sep 2021)',\n",
       "       'Search Volume (Oct 2021)', 'Country', 'Language',\n",
       "       'Search Volume (Feb 2022)'],\n",
       "      dtype='object')"
      ]
     },
     "execution_count": 16,
     "metadata": {},
     "output_type": "execute_result"
    }
   ],
   "source": [
    "all_sheets[1].columns # Chinese list of keywords with a translations column "
   ]
  },
  {
   "cell_type": "code",
   "execution_count": 17,
   "metadata": {},
   "outputs": [],
   "source": [
    "# Reset index \n",
    "for i in range(len(all_sheets)):\n",
    "    all_sheets[i].reset_index(inplace= True)\n",
    "\n",
    "    if \"EN Translations\" in all_sheets[i].columns:\n",
    "        all_sheets[i] = pd.melt(all_sheets[i], id_vars= [\"Bank\",\"Segment\",\"Bank Specific Name\", \"Keywords Grouping\",\"Keywords\", \"EN Translations\", \"Country\", \"Language\"])\n",
    "    else: \n",
    "        all_sheets[i] = pd.melt(all_sheets[i], id_vars= [\"Bank\",\"Segment\",\"Bank Specific Name\", \"Keywords Grouping\",\"Keywords\", \"Country\", \"Language\"])\n",
    "    \n",
    "    all_sheets[i].rename(columns= {\"variable\":\"Month\", \"value\":\"Search Volume\"}, inplace= True)\n",
    "    all_sheets[i][\"Month\"] = all_sheets[i][\"Month\"].str[15:23]"
   ]
  },
  {
   "cell_type": "markdown",
   "metadata": {},
   "source": [
    "## Save output"
   ]
  },
  {
   "cell_type": "code",
   "execution_count": 20,
   "metadata": {},
   "outputs": [],
   "source": [
    "writer = pd.ExcelWriter('output.xlsx')\n",
    "for i, df in enumerate(all_sheets, 1):\n",
    "    # python 3.6+\n",
    "    df.to_excel(writer, index= False, sheet_name= f'sheetName_{i}')\n",
    "writer.save()"
   ]
  },
  {
   "cell_type": "code",
   "execution_count": null,
   "metadata": {},
   "outputs": [],
   "source": []
  }
 ],
 "metadata": {
  "interpreter": {
   "hash": "d492678a8d93ac149b62fd2096f73d0c8bf9839dd0557a4ce9f115b2577311c2"
  },
  "kernelspec": {
   "display_name": "Python 3.9.7 64-bit ('base': conda)",
   "name": "python3"
  },
  "language_info": {
   "codemirror_mode": {
    "name": "ipython",
    "version": 3
   },
   "file_extension": ".py",
   "mimetype": "text/x-python",
   "name": "python",
   "nbconvert_exporter": "python",
   "pygments_lexer": "ipython3",
   "version": "3.9.7"
  },
  "orig_nbformat": 4
 },
 "nbformat": 4,
 "nbformat_minor": 2
}
