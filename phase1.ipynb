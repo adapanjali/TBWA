{
 "cells": [
  {
   "cell_type": "code",
   "execution_count": 5,
   "metadata": {},
   "outputs": [],
   "source": [
    "from pathlib import Path  # Standard Python Module\n",
    "import time  # Standard Python Module\n",
    "import xlwings as xw  # pip install xlwings\n",
    "import glob"
   ]
  },
  {
   "cell_type": "code",
   "execution_count": 6,
   "metadata": {},
   "outputs": [],
   "source": [
    "BASE_DIR = Path('/Users/adap.anjali/Desktop').parent\n",
    "SOURCE_DIR = BASE_DIR / 'RAW'\n",
    "OUTPUT_DIR = BASE_DIR / 'REFINED'\n",
    "\n",
    "cwd = os.path.abspath('')"
   ]
  },
  {
   "cell_type": "code",
   "execution_count": 7,
   "metadata": {},
   "outputs": [],
   "source": [
    "# # Create output directory\n",
    "# OUTPUT_DIR.mkdir(parents=True, exist_ok=True)\n",
    "\n",
    "# excel_files = glob.glob(os.listdir(cwd).glob('*.xlsx'))\n",
    "excel_files = glob.glob(os.path.join(cwd, \"*.xlsx\"))"
   ]
  },
  {
   "cell_type": "code",
   "execution_count": 11,
   "metadata": {},
   "outputs": [],
   "source": [
    "# file_name = []\n",
    "# for i in range(len(excel_files)):\n",
    "#     if(len(excel_files[i])==43):\n",
    "#         file_name.append(excel_files[i][-12:-5])\n",
    "#     elif(len(excel_files[i])==44):\n",
    "#         file_name.append(excel_files[i][-13:-5])"
   ]
  },
  {
   "cell_type": "code",
   "execution_count": 13,
   "metadata": {},
   "outputs": [],
   "source": [
    "# Create timestamp (for naming files)\n",
    "t = time.localtime()\n",
    "timestamp = time.strftime('%Y-%m-%d_%H%M', t)"
   ]
  },
  {
   "cell_type": "code",
   "execution_count": 14,
   "metadata": {},
   "outputs": [],
   "source": [
    "with xw.App(visible=False) as app:\n",
    "    combined_wb = app.books.add()\n",
    "    for excel_file in excel_files:\n",
    "        # print(excel_file)\n",
    "        wb = app.books.open(excel_file)\n",
    "        for sheet in wb.sheets:\n",
    "            # print(sheet)\n",
    "            sheet.copy(after=combined_wb.sheets[0])\n",
    "        wb.close()\n",
    "    combined_wb.sheets[0].delete()\n",
    "    combined_wb.save(OUTPUT_DIR / f'all_worksheets_{timestamp}.xlsx')\n",
    "    combined_wb.close()"
   ]
  },
  {
   "cell_type": "code",
   "execution_count": 15,
   "metadata": {},
   "outputs": [
    {
     "name": "stdout",
     "output_type": "stream",
     "text": [
      "/Users/adap.anjali/REFINED\n"
     ]
    }
   ],
   "source": [
    "list_of_files = glob.glob(\"/Users/adap.anjali/REFINED\") # * means all if need specific format then *.csv\n",
    "latest_file = max(list_of_files, key=os.path.getctime)\n",
    "print(latest_file)"
   ]
  },
  {
   "cell_type": "code",
   "execution_count": null,
   "metadata": {},
   "outputs": [],
   "source": []
  }
 ],
 "metadata": {
  "interpreter": {
   "hash": "23e94cedda1170e249d7067cd6d9f62c2c590f6dc9f63b08b23c4f23d6b3dff7"
  },
  "kernelspec": {
   "display_name": "Python 3.9.7 ('base')",
   "language": "python",
   "name": "python3"
  },
  "language_info": {
   "codemirror_mode": {
    "name": "ipython",
    "version": 3
   },
   "file_extension": ".py",
   "mimetype": "text/x-python",
   "name": "python",
   "nbconvert_exporter": "python",
   "pygments_lexer": "ipython3",
   "version": "3.9.7"
  },
  "orig_nbformat": 4
 },
 "nbformat": 4,
 "nbformat_minor": 2
}
